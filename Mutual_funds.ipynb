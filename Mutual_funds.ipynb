{
 "cells": [
  {
   "attachments": {},
   "cell_type": "markdown",
   "metadata": {},
   "source": [
    "## Collected Mututal fund data using screeners\n",
    "\n",
    "https://finance.yahoo.com/screener/unsaved/b8a2572f-78a8-407b-b317-827a6dde3238?count=100&offset=300\n",
    "\n"
   ]
  },
  {
   "cell_type": "code",
   "execution_count": 2,
   "metadata": {},
   "outputs": [],
   "source": [
    "import pandas as pd\n",
    "import yfinance as yf\n",
    "from yahoofinancials import YahooFinancials"
   ]
  },
  {
   "cell_type": "code",
   "execution_count": 54,
   "metadata": {},
   "outputs": [],
   "source": [
    "MF_data = pd.read_csv('Yahoo_tickers_MF.txt',delimiter='\\t')\n",
    "# Testing on first 1000 MFs\n",
    "MF_data = MF_data[:100]\n"
   ]
  },
  {
   "cell_type": "code",
   "execution_count": 56,
   "metadata": {},
   "outputs": [
    {
     "data": {
      "text/plain": [
       "Index(['Symbol', 'Name', 'Change', '% Change', 'Price (Intraday)',\n",
       "       '50 Day Average', '200 Day Average', '3-Mo Return', 'YTD Return',\n",
       "       '52 Week Range'],\n",
       "      dtype='object')"
      ]
     },
     "execution_count": 56,
     "metadata": {},
     "output_type": "execute_result"
    }
   ],
   "source": [
    "MF_data.columns"
   ]
  },
  {
   "cell_type": "markdown",
   "metadata": {},
   "source": [
    "## Plot historical data"
   ]
  },
  {
   "cell_type": "code",
   "execution_count": 58,
   "metadata": {},
   "outputs": [
    {
     "data": {
      "application/vnd.jupyter.widget-view+json": {
       "model_id": "9253f8050ecf4451b8064080946ab62f",
       "version_major": 2,
       "version_minor": 0
      },
      "text/plain": [
       "interactive(children=(Dropdown(description='Mutual Fund', options=('HDFC Equity Savings Fund -Direct Plan Divi…"
      ]
     },
     "metadata": {},
     "output_type": "display_data"
    },
    {
     "data": {
      "application/vnd.jupyter.widget-view+json": {
       "model_id": "c7ebb40b38ff433e85a07cbe012c0754",
       "version_major": 2,
       "version_minor": 0
      },
      "text/plain": [
       "Output()"
      ]
     },
     "metadata": {},
     "output_type": "display_data"
    }
   ],
   "source": [
    "import ipywidgets as widgets\n",
    "from IPython.display import display\n",
    "import matplotlib.pyplot as plt\n",
    "import numpy as np \n",
    "from ipywidgets import interact\n",
    "from ipywidgets import interact\n",
    "\n",
    "output_mf = widgets.Output()\n",
    "\n",
    "\n",
    "MF_select = widgets.Dropdown(\n",
    "    options=MF_data['Name'].tolist(),\n",
    "    value=MF_data['Name'].iloc[0],\n",
    "    description='Mutual Fund',\n",
    "    disabled=False,\n",
    ")\n",
    "# Define a function to handle the change event\n",
    "def plot_dropdown(Name):\n",
    "    \n",
    "    output_mf.clear_output()\n",
    "    with output_mf:\n",
    "        \n",
    "        fig,ax = plt.subplots(1,1,figsize=(6,6))\n",
    "        selected_option = Name\n",
    "        ticker = yf.Ticker(MF_data.loc[MF_data['Name'] == selected_option, 'Symbol'].iloc[0])\n",
    "        mf_df = ticker.history(period=\"5y\")\n",
    "        title=f\"{selected_option} Stock Price\"\n",
    "        threshold = 20\n",
    "\n",
    "        if len(title) > threshold:\n",
    "            title = title[:threshold] + \"\\n\" + title[threshold:]\n",
    "\n",
    "        mf_df['Close'].plot(ax=ax)\n",
    "        ax.set_title(title)\n",
    "        ax.set_ylabel('NAV')\n",
    "        plt.show()\n",
    "\n",
    "# Register the change event handler\n",
    "widgets.interact(plot_dropdown, Name=MF_select)\n",
    "\n",
    "# display(MF_select)\n",
    "display(output_mf)"
   ]
  },
  {
   "cell_type": "code",
   "execution_count": 44,
   "metadata": {},
   "outputs": [],
   "source": []
  },
  {
   "attachments": {},
   "cell_type": "markdown",
   "metadata": {},
   "source": [
    "- Taking the top 100 best performing MFs based on the 3 yr returns\n",
    "\n"
   ]
  },
  {
   "cell_type": "code",
   "execution_count": 59,
   "metadata": {},
   "outputs": [],
   "source": [
    "import multiprocessing\n",
    "\n",
    "def three_yr_return(name):\n",
    "    ticker = yf.Ticker(MF_data.loc[MF_data['Name'] == name, 'Symbol'].iloc[0])\n",
    "    mf_df = ticker.history(period=\"3y\")\n",
    "    mf_df[\"Daily_Return\"] = mf_df[\"Close\"].pct_change()\n",
    "    # Calculate cumulative return over the 3-year period\n",
    "    tyr = np.prod(1 + mf_df[\"Daily_Return\"][-252 * 3:]) - 1 \n",
    "    return (tyr/3)*100\n",
    "\n",
    "if __name__==\"__main__\":\n",
    "    \n",
    "    with multiprocessing.Pool(8) as pool:\n",
    "        ret3 = pool.map(three_yr_return, MF_data['Name'].tolist())\n",
    "    \n",
    "        MF_data['3yr'] =  ret3\n",
    "\n",
    "    "
   ]
  },
  {
   "cell_type": "code",
   "execution_count": 60,
   "metadata": {},
   "outputs": [],
   "source": [
    "MF_data.reset_index().to_feather('MF_data_tmp.dat')"
   ]
  },
  {
   "cell_type": "code",
   "execution_count": 61,
   "metadata": {},
   "outputs": [],
   "source": [
    "MF_data.sort_values(by='3yr',ascending=False,inplace=True)"
   ]
  },
  {
   "cell_type": "code",
   "execution_count": 62,
   "metadata": {},
   "outputs": [
    {
     "data": {
      "text/plain": [
       "<bound method NDFrame.head of 55    32.586797\n",
       "57    31.409122\n",
       "38    29.860464\n",
       "9     29.458947\n",
       "39    28.141192\n",
       "        ...    \n",
       "78    -0.050481\n",
       "54    -0.055440\n",
       "49    -0.055774\n",
       "40    -0.076771\n",
       "43    -0.077136\n",
       "Name: 3yr, Length: 100, dtype: float64>"
      ]
     },
     "execution_count": 62,
     "metadata": {},
     "output_type": "execute_result"
    }
   ],
   "source": [
    "# Select top 100 MFs\n",
    "MF_data['3yr'].head"
   ]
  },
  {
   "attachments": {},
   "cell_type": "markdown",
   "metadata": {},
   "source": [
    "## Sharpe ratio"
   ]
  },
  {
   "cell_type": "code",
   "execution_count": 64,
   "metadata": {},
   "outputs": [
    {
     "name": "stderr",
     "output_type": "stream",
     "text": [
      "100%|██████████| 100/100 [00:45<00:00,  2.19it/s]\n"
     ]
    }
   ],
   "source": [
    "import yfinance as yf\n",
    "import pandas as pd\n",
    "import numpy as np\n",
    "import tqdm \n",
    "\n",
    "def get_sharpe_ratio(ticker_symbol, risk_free_rate):\n",
    "    ticker = yf.Ticker(ticker_symbol)\n",
    "    mf_df = ticker.history(period=\"3y\")\n",
    "    daily_returns =  mf_df[\"Close\"].pct_change()\n",
    "    # Calculate average daily return and standard deviation of daily returns\n",
    "    avg_daily_return = daily_returns.mean()\n",
    "    std_dev_daily_return = daily_returns.std()\n",
    "\n",
    "    # Annualize average daily return and standard deviation\n",
    "    annual_return = avg_daily_return * 252\n",
    "    annual_volatility = std_dev_daily_return * np.sqrt(252)\n",
    "\n",
    "    # Calculate the Sharpe ratio using the risk-free rate\n",
    "    sharpe_ratio = (annual_return - risk_free_rate) / annual_volatility\n",
    "\n",
    "    return sharpe_ratio\n",
    "\n",
    "\n",
    "sr = []\n",
    "for mf_symb in tqdm.tqdm(MF_data['Symbol'].tolist()):\n",
    "    \n",
    "    #print(ticker_symbol)\n",
    "    # Risk-free rate \n",
    "    risk_free_rate = 0.04\n",
    "\n",
    "    # Calculate the Sharpe ratio\n",
    "    sr.append(get_sharpe_ratio(mf_symb, risk_free_rate))\n",
    "    # print(f\"Sharpe Ratio: {sharpe_ratio:.2f}\")\n",
    "\n",
    "MF_data['Sharpe'] = np.array(sr)\n"
   ]
  },
  {
   "cell_type": "code",
   "execution_count": 65,
   "metadata": {},
   "outputs": [],
   "source": [
    "MF_data.reset_index().to_feather('MF_data_tmp.dat')"
   ]
  },
  {
   "cell_type": "code",
   "execution_count": 66,
   "metadata": {},
   "outputs": [
    {
     "data": {
      "text/plain": [
       "<Axes: ylabel='Frequency'>"
      ]
     },
     "execution_count": 66,
     "metadata": {},
     "output_type": "execute_result"
    },
    {
     "data": {
      "image/png": "[encoded data removed]",
      "text/plain": [
       "<Figure size 640x480 with 1 Axes>"
      ]
     },
     "metadata": {},
     "output_type": "display_data"
    }
   ],
   "source": [
    "\n",
    "MF_data['Sharpe'].plot(kind='hist')"
   ]
  },
  {
   "cell_type": "code",
   "execution_count": 67,
   "metadata": {},
   "outputs": [
    {
     "data": {
      "text/plain": [
       "count    100.000000\n",
       "mean      -6.418477\n",
       "std       23.517518\n",
       "min     -119.543621\n",
       "25%       -2.834141\n",
       "50%       -0.666857\n",
       "75%        1.211979\n",
       "max        4.134221\n",
       "Name: Sharpe, dtype: float64"
      ]
     },
     "execution_count": 67,
     "metadata": {},
     "output_type": "execute_result"
    }
   ],
   "source": [
    "MF_data['Sharpe'].describe()"
   ]
  },
  {
   "cell_type": "markdown",
   "metadata": {},
   "source": [
    "## CAGR "
   ]
  },
  {
   "cell_type": "code",
   "execution_count": 71,
   "metadata": {},
   "outputs": [
    {
     "name": "stderr",
     "output_type": "stream",
     "text": [
      "100%|██████████| 100/100 [00:44<00:00,  2.26it/s]\n"
     ]
    }
   ],
   "source": [
    "def calculate_cagr(ticker_symbol):\n",
    "    ticker = yf.Ticker(ticker_symbol)\n",
    "    mf_df = ticker.history(period=\"1y\")\n",
    "    initial_value = mf_df[\"Close\"].iloc[0]\n",
    "    final_value = mf_df[\"Close\"].iloc[-1]\n",
    "    years = len(mf_df) / 252  # Assuming 252 trading days per year\n",
    "    cagr = ((final_value / initial_value) ** (1 / years)) - 1\n",
    "    return cagr * 100  # Convert to percentage\n",
    "\n",
    "cagr = []\n",
    "for mf_symb in tqdm.tqdm(MF_data['Symbol'].tolist()):\n",
    "\n",
    "    # Calculate the Sharpe ratio\n",
    "    cagr.append(calculate_cagr(mf_symb))\n",
    "    # print(f\"Sharpe Ratio: {sharpe_ratio:.2f}\")\n",
    "\n",
    "MF_data['CAGR'] = np.array(cagr)\n",
    "\n",
    "MF_data.reset_index().to_feather('MF_data_tmp.dat')"
   ]
  },
  {
   "cell_type": "code",
   "execution_count": 72,
   "metadata": {},
   "outputs": [
    {
     "data": {
      "text/plain": [
       "<Axes: ylabel='Frequency'>"
      ]
     },
     "execution_count": 72,
     "metadata": {},
     "output_type": "execute_result"
    },
    {
     "data": {
      "image/png": "[encoded data removed]",
      "text/plain": [
       "<Figure size 640x480 with 1 Axes>"
      ]
     },
     "metadata": {},
     "output_type": "display_data"
    }
   ],
   "source": [
    "MF_data['CAGR'].plot(kind='hist')"
   ]
  },
  {
   "cell_type": "code",
   "execution_count": 73,
   "metadata": {},
   "outputs": [
    {
     "data": {
      "text/plain": [
       "count    100.000000\n",
       "mean       4.031817\n",
       "std        4.909278\n",
       "min       -0.071305\n",
       "25%        0.048052\n",
       "50%        0.938434\n",
       "75%        6.888505\n",
       "max       20.139007\n",
       "Name: CAGR, dtype: float64"
      ]
     },
     "execution_count": 73,
     "metadata": {},
     "output_type": "execute_result"
    }
   ],
   "source": [
    "MF_data['CAGR'].describe()"
   ]
  },
  {
   "cell_type": "markdown",
   "metadata": {},
   "source": [
    "## Sortino ratio"
   ]
  },
  {
   "cell_type": "code",
   "execution_count": 82,
   "metadata": {},
   "outputs": [
    {
     "name": "stderr",
     "output_type": "stream",
     "text": [
      "100%|██████████| 100/100 [00:45<00:00,  2.20it/s]\n"
     ]
    }
   ],
   "source": [
    "def calculate_sortino_ratio(ticker_symbol, risk_free_rate):\n",
    "    \n",
    "    ticker = yf.Ticker(ticker_symbol)\n",
    "    mf_df = ticker.history(period=\"3y\")\n",
    "    returns =  mf_df[\"Close\"].pct_change().dropna()\n",
    "    downside_returns = returns[returns < 0]\n",
    "    downside_deviation = np.std(downside_returns)\n",
    "    \n",
    "    expected_return = returns.mean()\n",
    "    excess_return = expected_return - risk_free_rate\n",
    "    \n",
    "    sortino_ratio = excess_return / downside_deviation\n",
    "    return sortino_ratio\n",
    "\n",
    "sr = []\n",
    "for mf_symb in tqdm.tqdm(MF_data['Symbol'].tolist()):\n",
    "    # risk-free rate\n",
    "    risk_free_rate = 0.04\n",
    "    sr.append(calculate_sortino_ratio(mf_symb, risk_free_rate))\n",
    "\n",
    "MF_data['Sortino'] = np.array(sr)\n",
    "MF_data.reset_index().to_feather('MF_data_tmp.dat')"
   ]
  },
  {
   "cell_type": "code",
   "execution_count": 83,
   "metadata": {},
   "outputs": [
    {
     "data": {
      "text/plain": [
       "<Axes: ylabel='Frequency'>"
      ]
     },
     "execution_count": 83,
     "metadata": {},
     "output_type": "execute_result"
    },
    {
     "data": {
      "image/png": "[encoded data removed]",
      "text/plain": [
       "<Figure size 640x480 with 1 Axes>"
      ]
     },
     "metadata": {},
     "output_type": "display_data"
    }
   ],
   "source": [
    "MF_data['Sortino'].plot(kind='hist')"
   ]
  },
  {
   "cell_type": "code",
   "execution_count": 84,
   "metadata": {},
   "outputs": [
    {
     "data": {
      "text/plain": [
       "count    100.000000\n",
       "mean     -89.600527\n",
       "std      131.814486\n",
       "min     -536.923074\n",
       "25%     -107.702893\n",
       "50%      -23.257374\n",
       "75%       -9.467334\n",
       "max        1.001575\n",
       "Name: Sortino, dtype: float64"
      ]
     },
     "execution_count": 84,
     "metadata": {},
     "output_type": "execute_result"
    }
   ],
   "source": [
    "MF_data['Sortino'].describe()"
   ]
  },
  {
   "cell_type": "markdown",
   "metadata": {},
   "source": [
    "## Alpha and Beta of MFs"
   ]
  },
  {
   "cell_type": "code",
   "execution_count": 103,
   "metadata": {},
   "outputs": [
    {
     "name": "stderr",
     "output_type": "stream",
     "text": [
      "100%|██████████| 100/100 [01:38<00:00,  1.02it/s]\n"
     ]
    }
   ],
   "source": [
    "\n",
    "import statsmodels.api as sm\n",
    "\n",
    "def get_alpha_beta(ticker_symbol,benchmark_ticker):\n",
    "    ticker = yf.Ticker(ticker_symbol)\n",
    "    mf_df = ticker.history(period=\"1y\")['Close'].tz_localize(None)\n",
    "    # Download historical data using yfinance\n",
    "    benchmark_data = yf.download(benchmark_ticker, period=\"1y\",progress=False)[\"Close\"].tz_localize(None)\n",
    "\n",
    "    # Combine dataframes and drop missing values\n",
    "    combined_data = pd.concat([mf_df, benchmark_data], axis=1, keys=[ticker_symbol, benchmark_ticker])\n",
    "    combined_data.replace([np.inf, -np.inf], np.nan, inplace=True)\n",
    "    combined_data.dropna(inplace=True)\n",
    "\n",
    "    # Calculate daily returns\n",
    "    fund_returns = combined_data[ticker_symbol].pct_change()[1:]\n",
    "    benchmark_returns = combined_data[benchmark_ticker].pct_change()[1:]\n",
    "\n",
    "    # print(benchmark_returns.describe())\n",
    "\n",
    "    # Calculate beta using linear regression\n",
    "    X = sm.add_constant(benchmark_returns)\n",
    "    model = sm.OLS(fund_returns, X).fit()\n",
    "    beta = model.params[benchmark_ticker]\n",
    "\n",
    "    expected_return = risk_free_rate + beta * (benchmark_returns.mean() - risk_free_rate)\n",
    "\n",
    "    # Calculate alpha\n",
    "    alpha = (fund_returns.mean() - expected_return) * 252  # Annualize alpha\n",
    "    \n",
    "    return alpha, beta\n",
    "\n",
    "# Calculate the expected return of the fund based on CAPM\n",
    "risk_free_rate = 0.01  # Replace with the appropriate risk-free rate\n",
    "\n",
    "MF_data['Alpha'] = np.nan\n",
    "MF_data['Beta'] = np.nan\n",
    "benchmark_ticker = '^BSESN'\n",
    "for mf_symb in tqdm.tqdm(MF_data['Symbol'].tolist()):\n",
    "    alpha, beta = get_alpha_beta(mf_symb,benchmark_ticker)\n",
    "    MF_data.loc[MF_data['Symbol'] == mf_symb, 'Alpha'] = alpha\n",
    "    MF_data.loc[MF_data['Symbol'] == mf_symb, 'Beta'] = beta\n",
    "\n"
   ]
  },
  {
   "cell_type": "code",
   "execution_count": 104,
   "metadata": {},
   "outputs": [],
   "source": [
    "MF_data.reset_index().to_feather('MF_data_tmp.dat')"
   ]
  },
  {
   "cell_type": "code",
   "execution_count": 108,
   "metadata": {},
   "outputs": [
    {
     "data": {
      "text/plain": [
       "<Axes: ylabel='Frequency'>"
      ]
     },
     "execution_count": 108,
     "metadata": {},
     "output_type": "execute_result"
    },
    {
     "data": {
      "image/png": "[encoded data removed]",
      "text/plain": [
       "<Figure size 640x480 with 1 Axes>"
      ]
     },
     "metadata": {},
     "output_type": "display_data"
    }
   ],
   "source": [
    "MF_data['Alpha'].plot(kind='hist');MF_data['Beta'].plot(kind='hist')"
   ]
  },
  {
   "cell_type": "code",
   "execution_count": 111,
   "metadata": {},
   "outputs": [
    {
     "data": {
      "text/plain": [
       "count    100.000000\n",
       "mean      -0.366275\n",
       "std       17.506514\n",
       "min       -2.573493\n",
       "25%       -2.526142\n",
       "50%       -2.466049\n",
       "75%       -2.400610\n",
       "max      172.770321\n",
       "Name: Alpha, dtype: float64"
      ]
     },
     "execution_count": 111,
     "metadata": {},
     "output_type": "execute_result"
    }
   ],
   "source": [
    "MF_data['Alpha'].describe()\n"
   ]
  },
  {
   "cell_type": "code",
   "execution_count": 112,
   "metadata": {},
   "outputs": [
    {
     "data": {
      "text/plain": [
       "count    100.000000\n",
       "mean       0.456606\n",
       "std        3.071178\n",
       "min       -0.023504\n",
       "25%       -0.003566\n",
       "50%        0.003576\n",
       "75%        0.021306\n",
       "max       30.702013\n",
       "Name: Beta, dtype: float64"
      ]
     },
     "execution_count": 112,
     "metadata": {},
     "output_type": "execute_result"
    }
   ],
   "source": [
    "MF_data['Beta'].describe()\n"
   ]
  },
  {
   "cell_type": "code",
   "execution_count": null,
   "metadata": {},
   "outputs": [],
   "source": []
  }
 ],
 "metadata": {
  "kernelspec": {
   "display_name": "DS",
   "language": "python",
   "name": "python3"
  },
  "language_info": {
   "codemirror_mode": {
    "name": "ipython",
    "version": 3
   },
   "file_extension": ".py",
   "mimetype": "text/x-python",
   "name": "python",
   "nbconvert_exporter": "python",
   "pygments_lexer": "ipython3",
   "version": "3.11.4"
  },
  "orig_nbformat": 4,
  "vscode": {
   "interpreter": {
    "hash": "3493ca4d6493e50ca0ae51c2a389ec1f4f85018ecee85e3d74d6f827468c6f7e"
   }
  }
 },
 "nbformat": 4,
 "nbformat_minor": 2
}

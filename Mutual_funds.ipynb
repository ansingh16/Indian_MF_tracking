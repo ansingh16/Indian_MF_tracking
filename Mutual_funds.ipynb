{
 "cells": [
  {
   "attachments": {},
   "cell_type": "markdown",
   "metadata": {},
   "source": [
    "## Collected Mututal fund data using screeners\n",
    "\n",
    "https://finance.yahoo.com/screener/unsaved/b8a2572f-78a8-407b-b317-827a6dde3238?count=100&offset=300\n",
    "\n"
   ]
  },
  {
   "cell_type": "code",
   "execution_count": 4,
   "metadata": {},
   "outputs": [],
   "source": [
    "import pandas as pd\n",
    "import yfinance as yf\n",
    "from yahoofinancials import YahooFinancials"
   ]
  },
  {
   "cell_type": "code",
   "execution_count": 5,
   "metadata": {},
   "outputs": [],
   "source": [
    "data = pd.read_csv('Yahoo_tickers_MF.txt',delimiter='\\t')"
   ]
  },
  {
   "cell_type": "code",
   "execution_count": 41,
   "metadata": {},
   "outputs": [
    {
     "data": {
      "text/plain": [
       "40      Nippon India Money Market Fund Weekly Dividend...\n",
       "41      Nippon India Money Market Fund Monthly Dividen...\n",
       "42      Nippon India Money Market Fund Direct Plan Bon...\n",
       "43      Nippon India Money Market Fund Direct Plan Wee...\n",
       "44      Nippon India Money Market Fund Monthly Dividen...\n",
       "                              ...                        \n",
       "9857       Nippon India Taiwan Equity Fund Regular Growth\n",
       "9861    Nippon India Arbitrage Fund Direct Plan Monthl...\n",
       "9897    Nippon India Overnight Fund Direct Quarterly D...\n",
       "9921    Nippon India Nifty AAA PSU Bd Pl SDL Sep26 Mat...\n",
       "9930    Nippon India Retirement Fund - Wealth Creation...\n",
       "Name: Name, Length: 630, dtype: object"
      ]
     },
     "execution_count": 41,
     "metadata": {},
     "output_type": "execute_result"
    }
   ],
   "source": [
    "data['Name'].loc[data['Name'].str.contains('Nippon')]"
   ]
  },
  {
   "cell_type": "code",
   "execution_count": 16,
   "metadata": {},
   "outputs": [
    {
     "data": {
      "application/vnd.jupyter.widget-view+json": {
       "model_id": "0ecfbded86c643528e31947e8a0f8533",
       "version_major": 2,
       "version_minor": 0
      },
      "text/plain": [
       "interactive(children=(Text(value='Nippon India Taiwan Equity Fund Regular Growth', description='selected_optio…"
      ]
     },
     "metadata": {},
     "output_type": "display_data"
    },
    {
     "data": {
      "text/plain": [
       "<function __main__.fta(selected_option='Nippon India Taiwan Equity Fund Regular Growth')>"
      ]
     },
     "metadata": {},
     "output_type": "display_data"
    }
   ],
   "source": [
    "%matplotlib inline\n",
    "\n",
    "import ipywidgets as widgets\n",
    "from IPython.display import display\n",
    "import matplotlib.pyplot as plt\n",
    "import numpy as np \n",
    "from ipywidgets import interact\n",
    "from ipywidgets import interact\n",
    "\n",
    "\n",
    "\n",
    "# MF_select = widgets.Dropdown(\n",
    "#     options=data['Name'].tolist(),\n",
    "#     value=data['Name'].iloc[0],\n",
    "#     description='Mutual Fund',\n",
    "#     disabled=False,\n",
    "# )\n",
    "# # Define a function to handle the change event\n",
    "# def on_dropdown_change(change):\n",
    "#     selected_option = change['new']\n",
    "#     ticker = yf.Ticker(data.loc[data['Name'] == selected_option, 'Symbol'].iloc[0])\n",
    "#     mf_df = ticker.history(period=\"5y\")\n",
    "#     #mf_df['Close'].plot(ax=ax,title=f\"{selected_option} Stock Price\")\n",
    "#     print(mf_df.columns)\n",
    "#     line, = ax.plot(mf_df.index,mf_df['Close'])\n",
    "#     line.set_ydata(mf_df['Close'])\n",
    "#     fig.canvas.draw()\n",
    "# # Register the change event handler\n",
    "# MF_select.observe(on_dropdown_change, names='value')\n",
    "\n",
    "\n",
    "def fta(selected_option ='Nippon India Taiwan Equity Fund Regular Growth'):\n",
    "    \"showing sine frequency\"\n",
    "    ticker = yf.Ticker(data.loc[data['Name'] == selected_option, 'Symbol'].iloc[0])\n",
    "    mf_df = ticker.history(period=\"5y\")\n",
    "    f, ax = plt.subplots(nrows=1,figsize=(8,6))\n",
    "    #mf_df['Close'].plot(ax=ax,title=f\"{selected_option} Stock Price\")\n",
    "    print(mf_df.columns)\n",
    "    ax.plot(mf_df.index,mf_df['Close'])\n",
    "    ax.grid();\n",
    "\n",
    "df = interact( fta, Mutual_Fund=data['Name'].to_dict())\n",
    "\n"
   ]
  },
  {
   "cell_type": "code",
   "execution_count": 13,
   "metadata": {},
   "outputs": [
    {
     "name": "stdout",
     "output_type": "stream",
     "text": [
      "\u001b[0;31mSignature:\u001b[0m      \u001b[0minteract\u001b[0m\u001b[0;34m(\u001b[0m\u001b[0m_InteractFactory__interact_f\u001b[0m\u001b[0;34m=\u001b[0m\u001b[0;32mNone\u001b[0m\u001b[0;34m,\u001b[0m \u001b[0;34m**\u001b[0m\u001b[0mkwargs\u001b[0m\u001b[0;34m)\u001b[0m\u001b[0;34m\u001b[0m\u001b[0;34m\u001b[0m\u001b[0m\n",
      "\u001b[0;31mType:\u001b[0m           _InteractFactory\n",
      "\u001b[0;31mString form:\u001b[0m    <ipywidgets.widgets.interaction._InteractFactory object at 0x7fca2841f590>\n",
      "\u001b[0;31mFile:\u001b[0m           ~/miniconda3/envs/Finance/lib/python3.11/site-packages/ipywidgets/widgets/interaction.py\n",
      "\u001b[0;31mSource:\u001b[0m        \n",
      "\u001b[0;32mclass\u001b[0m \u001b[0m_InteractFactory\u001b[0m\u001b[0;34m:\u001b[0m\u001b[0;34m\u001b[0m\n",
      "\u001b[0;34m\u001b[0m    \u001b[0;34m\"\"\"\u001b[0m\n",
      "\u001b[0;34m    Factory for instances of :class:`interactive`.\u001b[0m\n",
      "\u001b[0;34m\u001b[0m\n",
      "\u001b[0;34m    This class is needed to support options like::\u001b[0m\n",
      "\u001b[0;34m\u001b[0m\n",
      "\u001b[0;34m        >>> @interact.options(manual=True)\u001b[0m\n",
      "\u001b[0;34m        ... def greeting(text=\"World\"):\u001b[0m\n",
      "\u001b[0;34m        ...     print(\"Hello {}\".format(text))\u001b[0m\n",
      "\u001b[0;34m\u001b[0m\n",
      "\u001b[0;34m    Parameters\u001b[0m\n",
      "\u001b[0;34m    ----------\u001b[0m\n",
      "\u001b[0;34m    cls : class\u001b[0m\n",
      "\u001b[0;34m        The subclass of :class:`interactive` to construct.\u001b[0m\n",
      "\u001b[0;34m    options : dict\u001b[0m\n",
      "\u001b[0;34m        A dict of options used to construct the interactive\u001b[0m\n",
      "\u001b[0;34m        function. By default, this is returned by\u001b[0m\n",
      "\u001b[0;34m        ``cls.default_options()``.\u001b[0m\n",
      "\u001b[0;34m    kwargs : dict\u001b[0m\n",
      "\u001b[0;34m        A dict of **kwargs to use for widgets.\u001b[0m\n",
      "\u001b[0;34m    \"\"\"\u001b[0m\u001b[0;34m\u001b[0m\n",
      "\u001b[0;34m\u001b[0m    \u001b[0;32mdef\u001b[0m \u001b[0m__init__\u001b[0m\u001b[0;34m(\u001b[0m\u001b[0mself\u001b[0m\u001b[0;34m,\u001b[0m \u001b[0mcls\u001b[0m\u001b[0;34m,\u001b[0m \u001b[0moptions\u001b[0m\u001b[0;34m,\u001b[0m \u001b[0mkwargs\u001b[0m\u001b[0;34m=\u001b[0m\u001b[0;34m{\u001b[0m\u001b[0;34m}\u001b[0m\u001b[0;34m)\u001b[0m\u001b[0;34m:\u001b[0m\u001b[0;34m\u001b[0m\n",
      "\u001b[0;34m\u001b[0m        \u001b[0mself\u001b[0m\u001b[0;34m.\u001b[0m\u001b[0mcls\u001b[0m \u001b[0;34m=\u001b[0m \u001b[0mcls\u001b[0m\u001b[0;34m\u001b[0m\n",
      "\u001b[0;34m\u001b[0m        \u001b[0mself\u001b[0m\u001b[0;34m.\u001b[0m\u001b[0mopts\u001b[0m \u001b[0;34m=\u001b[0m \u001b[0moptions\u001b[0m\u001b[0;34m\u001b[0m\n",
      "\u001b[0;34m\u001b[0m        \u001b[0mself\u001b[0m\u001b[0;34m.\u001b[0m\u001b[0mkwargs\u001b[0m \u001b[0;34m=\u001b[0m \u001b[0mkwargs\u001b[0m\u001b[0;34m\u001b[0m\n",
      "\u001b[0;34m\u001b[0m\u001b[0;34m\u001b[0m\n",
      "\u001b[0;34m\u001b[0m    \u001b[0;32mdef\u001b[0m \u001b[0mwidget\u001b[0m\u001b[0;34m(\u001b[0m\u001b[0mself\u001b[0m\u001b[0;34m,\u001b[0m \u001b[0mf\u001b[0m\u001b[0;34m)\u001b[0m\u001b[0;34m:\u001b[0m\u001b[0;34m\u001b[0m\n",
      "\u001b[0;34m\u001b[0m        \u001b[0;34m\"\"\"\u001b[0m\n",
      "\u001b[0;34m        Return an interactive function widget for the given function.\u001b[0m\n",
      "\u001b[0;34m\u001b[0m\n",
      "\u001b[0;34m        The widget is only constructed, not displayed nor attached to\u001b[0m\n",
      "\u001b[0;34m        the function.\u001b[0m\n",
      "\u001b[0;34m\u001b[0m\n",
      "\u001b[0;34m        Returns\u001b[0m\n",
      "\u001b[0;34m        -------\u001b[0m\n",
      "\u001b[0;34m        An instance of ``self.cls`` (typically :class:`interactive`).\u001b[0m\n",
      "\u001b[0;34m\u001b[0m\n",
      "\u001b[0;34m        Parameters\u001b[0m\n",
      "\u001b[0;34m        ----------\u001b[0m\n",
      "\u001b[0;34m        f : function\u001b[0m\n",
      "\u001b[0;34m            The function to which the interactive widgets are tied.\u001b[0m\n",
      "\u001b[0;34m        \"\"\"\u001b[0m\u001b[0;34m\u001b[0m\n",
      "\u001b[0;34m\u001b[0m        \u001b[0;32mreturn\u001b[0m \u001b[0mself\u001b[0m\u001b[0;34m.\u001b[0m\u001b[0mcls\u001b[0m\u001b[0;34m(\u001b[0m\u001b[0mf\u001b[0m\u001b[0;34m,\u001b[0m \u001b[0mself\u001b[0m\u001b[0;34m.\u001b[0m\u001b[0mopts\u001b[0m\u001b[0;34m,\u001b[0m \u001b[0;34m**\u001b[0m\u001b[0mself\u001b[0m\u001b[0;34m.\u001b[0m\u001b[0mkwargs\u001b[0m\u001b[0;34m)\u001b[0m\u001b[0;34m\u001b[0m\n",
      "\u001b[0;34m\u001b[0m\u001b[0;34m\u001b[0m\n",
      "\u001b[0;34m\u001b[0m    \u001b[0;32mdef\u001b[0m \u001b[0m__call__\u001b[0m\u001b[0;34m(\u001b[0m\u001b[0mself\u001b[0m\u001b[0;34m,\u001b[0m \u001b[0m__interact_f\u001b[0m\u001b[0;34m=\u001b[0m\u001b[0;32mNone\u001b[0m\u001b[0;34m,\u001b[0m \u001b[0;34m**\u001b[0m\u001b[0mkwargs\u001b[0m\u001b[0;34m)\u001b[0m\u001b[0;34m:\u001b[0m\u001b[0;34m\u001b[0m\n",
      "\u001b[0;34m\u001b[0m        \u001b[0;34m\"\"\"\u001b[0m\n",
      "\u001b[0;34m        Make the given function interactive by adding and displaying\u001b[0m\n",
      "\u001b[0;34m        the corresponding :class:`interactive` widget.\u001b[0m\n",
      "\u001b[0;34m\u001b[0m\n",
      "\u001b[0;34m        Expects the first argument to be a function. Parameters to this\u001b[0m\n",
      "\u001b[0;34m        function are widget abbreviations passed in as keyword arguments\u001b[0m\n",
      "\u001b[0;34m        (``**kwargs``). Can be used as a decorator (see examples).\u001b[0m\n",
      "\u001b[0;34m\u001b[0m\n",
      "\u001b[0;34m        Returns\u001b[0m\n",
      "\u001b[0;34m        -------\u001b[0m\n",
      "\u001b[0;34m        f : __interact_f with interactive widget attached to it.\u001b[0m\n",
      "\u001b[0;34m\u001b[0m\n",
      "\u001b[0;34m        Parameters\u001b[0m\n",
      "\u001b[0;34m        ----------\u001b[0m\n",
      "\u001b[0;34m        __interact_f : function\u001b[0m\n",
      "\u001b[0;34m            The function to which the interactive widgets are tied. The `**kwargs`\u001b[0m\n",
      "\u001b[0;34m            should match the function signature. Passed to :func:`interactive()`\u001b[0m\n",
      "\u001b[0;34m        **kwargs : various, optional\u001b[0m\n",
      "\u001b[0;34m            An interactive widget is created for each keyword argument that is a\u001b[0m\n",
      "\u001b[0;34m            valid widget abbreviation. Passed to :func:`interactive()`\u001b[0m\n",
      "\u001b[0;34m\u001b[0m\n",
      "\u001b[0;34m        Examples\u001b[0m\n",
      "\u001b[0;34m        --------\u001b[0m\n",
      "\u001b[0;34m        Render an interactive text field that shows the greeting with the passed in\u001b[0m\n",
      "\u001b[0;34m        text::\u001b[0m\n",
      "\u001b[0;34m\u001b[0m\n",
      "\u001b[0;34m            # 1. Using interact as a function\u001b[0m\n",
      "\u001b[0;34m            def greeting(text=\"World\"):\u001b[0m\n",
      "\u001b[0;34m                print(\"Hello {}\".format(text))\u001b[0m\n",
      "\u001b[0;34m            interact(greeting, text=\"Jupyter Widgets\")\u001b[0m\n",
      "\u001b[0;34m\u001b[0m\n",
      "\u001b[0;34m            # 2. Using interact as a decorator\u001b[0m\n",
      "\u001b[0;34m            @interact\u001b[0m\n",
      "\u001b[0;34m            def greeting(text=\"World\"):\u001b[0m\n",
      "\u001b[0;34m                print(\"Hello {}\".format(text))\u001b[0m\n",
      "\u001b[0;34m\u001b[0m\n",
      "\u001b[0;34m            # 3. Using interact as a decorator with named parameters\u001b[0m\n",
      "\u001b[0;34m            @interact(text=\"Jupyter Widgets\")\u001b[0m\n",
      "\u001b[0;34m            def greeting(text=\"World\"):\u001b[0m\n",
      "\u001b[0;34m                print(\"Hello {}\".format(text))\u001b[0m\n",
      "\u001b[0;34m\u001b[0m\n",
      "\u001b[0;34m        Render an interactive slider widget and prints square of number::\u001b[0m\n",
      "\u001b[0;34m\u001b[0m\n",
      "\u001b[0;34m            # 1. Using interact as a function\u001b[0m\n",
      "\u001b[0;34m            def square(num=1):\u001b[0m\n",
      "\u001b[0;34m                print(\"{} squared is {}\".format(num, num*num))\u001b[0m\n",
      "\u001b[0;34m            interact(square, num=5)\u001b[0m\n",
      "\u001b[0;34m\u001b[0m\n",
      "\u001b[0;34m            # 2. Using interact as a decorator\u001b[0m\n",
      "\u001b[0;34m            @interact\u001b[0m\n",
      "\u001b[0;34m            def square(num=2):\u001b[0m\n",
      "\u001b[0;34m                print(\"{} squared is {}\".format(num, num*num))\u001b[0m\n",
      "\u001b[0;34m\u001b[0m\n",
      "\u001b[0;34m            # 3. Using interact as a decorator with named parameters\u001b[0m\n",
      "\u001b[0;34m            @interact(num=5)\u001b[0m\n",
      "\u001b[0;34m            def square(num=2):\u001b[0m\n",
      "\u001b[0;34m                print(\"{} squared is {}\".format(num, num*num))\u001b[0m\n",
      "\u001b[0;34m        \"\"\"\u001b[0m\u001b[0;34m\u001b[0m\n",
      "\u001b[0;34m\u001b[0m        \u001b[0;31m# If kwargs are given, replace self by a new\u001b[0m\u001b[0;34m\u001b[0m\n",
      "\u001b[0;34m\u001b[0m        \u001b[0;31m# _InteractFactory with the updated kwargs\u001b[0m\u001b[0;34m\u001b[0m\n",
      "\u001b[0;34m\u001b[0m        \u001b[0;32mif\u001b[0m \u001b[0mkwargs\u001b[0m\u001b[0;34m:\u001b[0m\u001b[0;34m\u001b[0m\n",
      "\u001b[0;34m\u001b[0m            \u001b[0mkw\u001b[0m \u001b[0;34m=\u001b[0m \u001b[0mdict\u001b[0m\u001b[0;34m(\u001b[0m\u001b[0mself\u001b[0m\u001b[0;34m.\u001b[0m\u001b[0mkwargs\u001b[0m\u001b[0;34m)\u001b[0m\u001b[0;34m\u001b[0m\n",
      "\u001b[0;34m\u001b[0m            \u001b[0mkw\u001b[0m\u001b[0;34m.\u001b[0m\u001b[0mupdate\u001b[0m\u001b[0;34m(\u001b[0m\u001b[0mkwargs\u001b[0m\u001b[0;34m)\u001b[0m\u001b[0;34m\u001b[0m\n",
      "\u001b[0;34m\u001b[0m            \u001b[0mself\u001b[0m \u001b[0;34m=\u001b[0m \u001b[0mtype\u001b[0m\u001b[0;34m(\u001b[0m\u001b[0mself\u001b[0m\u001b[0;34m)\u001b[0m\u001b[0;34m(\u001b[0m\u001b[0mself\u001b[0m\u001b[0;34m.\u001b[0m\u001b[0mcls\u001b[0m\u001b[0;34m,\u001b[0m \u001b[0mself\u001b[0m\u001b[0;34m.\u001b[0m\u001b[0mopts\u001b[0m\u001b[0;34m,\u001b[0m \u001b[0mkw\u001b[0m\u001b[0;34m)\u001b[0m\u001b[0;34m\u001b[0m\n",
      "\u001b[0;34m\u001b[0m\u001b[0;34m\u001b[0m\n",
      "\u001b[0;34m\u001b[0m        \u001b[0mf\u001b[0m \u001b[0;34m=\u001b[0m \u001b[0m__interact_f\u001b[0m\u001b[0;34m\u001b[0m\n",
      "\u001b[0;34m\u001b[0m        \u001b[0;32mif\u001b[0m \u001b[0mf\u001b[0m \u001b[0;32mis\u001b[0m \u001b[0;32mNone\u001b[0m\u001b[0;34m:\u001b[0m\u001b[0;34m\u001b[0m\n",
      "\u001b[0;34m\u001b[0m            \u001b[0;31m# This branch handles the case 3\u001b[0m\u001b[0;34m\u001b[0m\n",
      "\u001b[0;34m\u001b[0m            \u001b[0;31m# @interact(a=30, b=40)\u001b[0m\u001b[0;34m\u001b[0m\n",
      "\u001b[0;34m\u001b[0m            \u001b[0;31m# def f(*args, **kwargs):\u001b[0m\u001b[0;34m\u001b[0m\n",
      "\u001b[0;34m\u001b[0m            \u001b[0;31m#     ...\u001b[0m\u001b[0;34m\u001b[0m\n",
      "\u001b[0;34m\u001b[0m            \u001b[0;31m#\u001b[0m\u001b[0;34m\u001b[0m\n",
      "\u001b[0;34m\u001b[0m            \u001b[0;31m# Simply return the new factory\u001b[0m\u001b[0;34m\u001b[0m\n",
      "\u001b[0;34m\u001b[0m            \u001b[0;32mreturn\u001b[0m \u001b[0mself\u001b[0m\u001b[0;34m\u001b[0m\n",
      "\u001b[0;34m\u001b[0m\u001b[0;34m\u001b[0m\n",
      "\u001b[0;34m\u001b[0m        \u001b[0;31m# positional arg support in: https://gist.github.com/8851331\u001b[0m\u001b[0;34m\u001b[0m\n",
      "\u001b[0;34m\u001b[0m        \u001b[0;31m# Handle the cases 1 and 2\u001b[0m\u001b[0;34m\u001b[0m\n",
      "\u001b[0;34m\u001b[0m        \u001b[0;31m# 1. interact(f, **kwargs)\u001b[0m\u001b[0;34m\u001b[0m\n",
      "\u001b[0;34m\u001b[0m        \u001b[0;31m# 2. @interact\u001b[0m\u001b[0;34m\u001b[0m\n",
      "\u001b[0;34m\u001b[0m        \u001b[0;31m#    def f(*args, **kwargs):\u001b[0m\u001b[0;34m\u001b[0m\n",
      "\u001b[0;34m\u001b[0m        \u001b[0;31m#        ...\u001b[0m\u001b[0;34m\u001b[0m\n",
      "\u001b[0;34m\u001b[0m        \u001b[0mw\u001b[0m \u001b[0;34m=\u001b[0m \u001b[0mself\u001b[0m\u001b[0;34m.\u001b[0m\u001b[0mwidget\u001b[0m\u001b[0;34m(\u001b[0m\u001b[0mf\u001b[0m\u001b[0;34m)\u001b[0m\u001b[0;34m\u001b[0m\n",
      "\u001b[0;34m\u001b[0m        \u001b[0;32mtry\u001b[0m\u001b[0;34m:\u001b[0m\u001b[0;34m\u001b[0m\n",
      "\u001b[0;34m\u001b[0m            \u001b[0mf\u001b[0m\u001b[0;34m.\u001b[0m\u001b[0mwidget\u001b[0m \u001b[0;34m=\u001b[0m \u001b[0mw\u001b[0m\u001b[0;34m\u001b[0m\n",
      "\u001b[0;34m\u001b[0m        \u001b[0;32mexcept\u001b[0m \u001b[0mAttributeError\u001b[0m\u001b[0;34m:\u001b[0m\u001b[0;34m\u001b[0m\n",
      "\u001b[0;34m\u001b[0m            \u001b[0;31m# some things (instancemethods) can't have attributes attached,\u001b[0m\u001b[0;34m\u001b[0m\n",
      "\u001b[0;34m\u001b[0m            \u001b[0;31m# so wrap in a lambda\u001b[0m\u001b[0;34m\u001b[0m\n",
      "\u001b[0;34m\u001b[0m            \u001b[0mf\u001b[0m \u001b[0;34m=\u001b[0m \u001b[0;32mlambda\u001b[0m \u001b[0;34m*\u001b[0m\u001b[0margs\u001b[0m\u001b[0;34m,\u001b[0m \u001b[0;34m**\u001b[0m\u001b[0mkwargs\u001b[0m\u001b[0;34m:\u001b[0m \u001b[0m__interact_f\u001b[0m\u001b[0;34m(\u001b[0m\u001b[0;34m*\u001b[0m\u001b[0margs\u001b[0m\u001b[0;34m,\u001b[0m \u001b[0;34m**\u001b[0m\u001b[0mkwargs\u001b[0m\u001b[0;34m)\u001b[0m\u001b[0;34m\u001b[0m\n",
      "\u001b[0;34m\u001b[0m            \u001b[0mf\u001b[0m\u001b[0;34m.\u001b[0m\u001b[0mwidget\u001b[0m \u001b[0;34m=\u001b[0m \u001b[0mw\u001b[0m\u001b[0;34m\u001b[0m\n",
      "\u001b[0;34m\u001b[0m        \u001b[0mshow_inline_matplotlib_plots\u001b[0m\u001b[0;34m(\u001b[0m\u001b[0;34m)\u001b[0m\u001b[0;34m\u001b[0m\n",
      "\u001b[0;34m\u001b[0m        \u001b[0mdisplay\u001b[0m\u001b[0;34m(\u001b[0m\u001b[0mw\u001b[0m\u001b[0;34m)\u001b[0m\u001b[0;34m\u001b[0m\n",
      "\u001b[0;34m\u001b[0m        \u001b[0;32mreturn\u001b[0m \u001b[0mf\u001b[0m\u001b[0;34m\u001b[0m\n",
      "\u001b[0;34m\u001b[0m\u001b[0;34m\u001b[0m\n",
      "\u001b[0;34m\u001b[0m    \u001b[0;32mdef\u001b[0m \u001b[0moptions\u001b[0m\u001b[0;34m(\u001b[0m\u001b[0mself\u001b[0m\u001b[0;34m,\u001b[0m \u001b[0;34m**\u001b[0m\u001b[0mkwds\u001b[0m\u001b[0;34m)\u001b[0m\u001b[0;34m:\u001b[0m\u001b[0;34m\u001b[0m\n",
      "\u001b[0;34m\u001b[0m        \u001b[0;34m\"\"\"\u001b[0m\n",
      "\u001b[0;34m        Change options for interactive functions.\u001b[0m\n",
      "\u001b[0;34m\u001b[0m\n",
      "\u001b[0;34m        Returns\u001b[0m\n",
      "\u001b[0;34m        -------\u001b[0m\n",
      "\u001b[0;34m        A new :class:`_InteractFactory` which will apply the\u001b[0m\n",
      "\u001b[0;34m        options when called.\u001b[0m\n",
      "\u001b[0;34m        \"\"\"\u001b[0m\u001b[0;34m\u001b[0m\n",
      "\u001b[0;34m\u001b[0m        \u001b[0mopts\u001b[0m \u001b[0;34m=\u001b[0m \u001b[0mdict\u001b[0m\u001b[0;34m(\u001b[0m\u001b[0mself\u001b[0m\u001b[0;34m.\u001b[0m\u001b[0mopts\u001b[0m\u001b[0;34m)\u001b[0m\u001b[0;34m\u001b[0m\n",
      "\u001b[0;34m\u001b[0m        \u001b[0;32mfor\u001b[0m \u001b[0mk\u001b[0m \u001b[0;32min\u001b[0m \u001b[0mkwds\u001b[0m\u001b[0;34m:\u001b[0m\u001b[0;34m\u001b[0m\n",
      "\u001b[0;34m\u001b[0m            \u001b[0;32mtry\u001b[0m\u001b[0;34m:\u001b[0m\u001b[0;34m\u001b[0m\n",
      "\u001b[0;34m\u001b[0m                \u001b[0;31m# Ensure that the key exists because we want to change\u001b[0m\u001b[0;34m\u001b[0m\n",
      "\u001b[0;34m\u001b[0m                \u001b[0;31m# existing options, not add new ones.\u001b[0m\u001b[0;34m\u001b[0m\n",
      "\u001b[0;34m\u001b[0m                \u001b[0m_\u001b[0m \u001b[0;34m=\u001b[0m \u001b[0mopts\u001b[0m\u001b[0;34m[\u001b[0m\u001b[0mk\u001b[0m\u001b[0;34m]\u001b[0m\u001b[0;34m\u001b[0m\n",
      "\u001b[0;34m\u001b[0m            \u001b[0;32mexcept\u001b[0m \u001b[0mKeyError\u001b[0m\u001b[0;34m:\u001b[0m\u001b[0;34m\u001b[0m\n",
      "\u001b[0;34m\u001b[0m                \u001b[0;32mraise\u001b[0m \u001b[0mValueError\u001b[0m\u001b[0;34m(\u001b[0m\u001b[0;34m\"invalid option {!r}\"\u001b[0m\u001b[0;34m.\u001b[0m\u001b[0mformat\u001b[0m\u001b[0;34m(\u001b[0m\u001b[0mk\u001b[0m\u001b[0;34m)\u001b[0m\u001b[0;34m)\u001b[0m\u001b[0;34m\u001b[0m\n",
      "\u001b[0;34m\u001b[0m            \u001b[0mopts\u001b[0m\u001b[0;34m[\u001b[0m\u001b[0mk\u001b[0m\u001b[0;34m]\u001b[0m \u001b[0;34m=\u001b[0m \u001b[0mkwds\u001b[0m\u001b[0;34m[\u001b[0m\u001b[0mk\u001b[0m\u001b[0;34m]\u001b[0m\u001b[0;34m\u001b[0m\n",
      "\u001b[0;34m\u001b[0m        \u001b[0;32mreturn\u001b[0m \u001b[0mtype\u001b[0m\u001b[0;34m(\u001b[0m\u001b[0mself\u001b[0m\u001b[0;34m)\u001b[0m\u001b[0;34m(\u001b[0m\u001b[0mself\u001b[0m\u001b[0;34m.\u001b[0m\u001b[0mcls\u001b[0m\u001b[0;34m,\u001b[0m \u001b[0mopts\u001b[0m\u001b[0;34m,\u001b[0m \u001b[0mself\u001b[0m\u001b[0;34m.\u001b[0m\u001b[0mkwargs\u001b[0m\u001b[0;34m)\u001b[0m\u001b[0;34m\u001b[0m\u001b[0;34m\u001b[0m\u001b[0m\n",
      "\u001b[0;31mCall docstring:\u001b[0m\n",
      "Make the given function interactive by adding and displaying\n",
      "the corresponding :class:`interactive` widget.\n",
      "\n",
      "Expects the first argument to be a function. Parameters to this\n",
      "function are widget abbreviations passed in as keyword arguments\n",
      "(``**kwargs``). Can be used as a decorator (see examples).\n",
      "\n",
      "Returns\n",
      "-------\n",
      "f : __interact_f with interactive widget attached to it.\n",
      "\n",
      "Parameters\n",
      "----------\n",
      "__interact_f : function\n",
      "    The function to which the interactive widgets are tied. The `**kwargs`\n",
      "    should match the function signature. Passed to :func:`interactive()`\n",
      "**kwargs : various, optional\n",
      "    An interactive widget is created for each keyword argument that is a\n",
      "    valid widget abbreviation. Passed to :func:`interactive()`\n",
      "\n",
      "Examples\n",
      "--------\n",
      "Render an interactive text field that shows the greeting with the passed in\n",
      "text::\n",
      "\n",
      "    # 1. Using interact as a function\n",
      "    def greeting(text=\"World\"):\n",
      "        print(\"Hello {}\".format(text))\n",
      "    interact(greeting, text=\"Jupyter Widgets\")\n",
      "\n",
      "    # 2. Using interact as a decorator\n",
      "    @interact\n",
      "    def greeting(text=\"World\"):\n",
      "        print(\"Hello {}\".format(text))\n",
      "\n",
      "    # 3. Using interact as a decorator with named parameters\n",
      "    @interact(text=\"Jupyter Widgets\")\n",
      "    def greeting(text=\"World\"):\n",
      "        print(\"Hello {}\".format(text))\n",
      "\n",
      "Render an interactive slider widget and prints square of number::\n",
      "\n",
      "    # 1. Using interact as a function\n",
      "    def square(num=1):\n",
      "        print(\"{} squared is {}\".format(num, num*num))\n",
      "    interact(square, num=5)\n",
      "\n",
      "    # 2. Using interact as a decorator\n",
      "    @interact\n",
      "    def square(num=2):\n",
      "        print(\"{} squared is {}\".format(num, num*num))\n",
      "\n",
      "    # 3. Using interact as a decorator with named parameters\n",
      "    @interact(num=5)\n",
      "    def square(num=2):\n",
      "        print(\"{} squared is {}\".format(num, num*num))"
     ]
    }
   ],
   "source": [
    "interact??"
   ]
  },
  {
   "cell_type": "code",
   "execution_count": 10,
   "metadata": {},
   "outputs": [
    {
     "data": {
      "application/vnd.jupyter.widget-view+json": {
       "model_id": "4e86fcb7332b4fddb74e35d64580ec3b",
       "version_major": 2,
       "version_minor": 0
      },
      "text/plain": [
       "interactive(children=(FloatSlider(value=50.0, description='freq'), Output()), _dom_classes=('widget-interact',…"
      ]
     },
     "metadata": {},
     "output_type": "display_data"
    },
    {
     "data": {
      "text/plain": [
       "<function __main__.fta(freq=50.0)>"
      ]
     },
     "execution_count": 10,
     "metadata": {},
     "output_type": "execute_result"
    }
   ],
   "source": [
    "# load the interactive tool\n",
    "from ipywidgets import interact\n",
    "\n",
    "\n",
    "import numpy as np\n",
    "import matplotlib.pyplot as plt\n",
    "x = np.linspace(0, 2 * np.pi, 1000)\n",
    "\n",
    "def fta(freq = 50.0):\n",
    "    \"showing sine frequency\"\n",
    "    y = np.sin(freq*x)\n",
    "    f, ax1 = plt.subplots(nrows=1,figsize=(8,6))\n",
    "    ax1.plot(x[0:100], y[0:100],'b')\n",
    "    ax1.set_ylim(ymin=-1.1, ymax=1.1)\n",
    "    ax1.grid();\n",
    "    # then use it interactively,\n",
    "interact( fta, freq=(0.0,100.0))"
   ]
  },
  {
   "cell_type": "code",
   "execution_count": 17,
   "metadata": {},
   "outputs": [
    {
     "data": {
      "application/vnd.jupyter.widget-view+json": {
       "model_id": "067ebec0810f4ce990bd2ee863703ac2",
       "version_major": 2,
       "version_minor": 0
      },
      "text/plain": [
       "Tab(children=(Output(), Output()), selected_index=0, titles=('First', 'Second'))"
      ]
     },
     "metadata": {},
     "output_type": "display_data"
    }
   ],
   "source": [
    "%matplotlib inline\n",
    "import matplotlib.pyplot as plt\n",
    "import pandas as pd\n",
    "import ipywidgets as widgets\n",
    "import numpy as np\n",
    "\n",
    "out1 = widgets.Output()\n",
    "out2 = widgets.Output()\n",
    "data1 = pd.DataFrame(np.random.normal(size = 50))\n",
    "data2 = pd.DataFrame(np.random.normal(size = 100))\n",
    "\n",
    "tab = widgets.Tab(children = [out1, out2])\n",
    "tab.set_title(0, 'First')\n",
    "tab.set_title(1, 'Second')\n",
    "display(tab)\n",
    "\n",
    "with out1:\n",
    "    fig1, axes1 = plt.subplots()\n",
    "    data1.hist(ax = axes1)\n",
    "    plt.show(fig1)\n",
    "\n",
    "with out2:\n",
    "    fig2, axes2 = plt.subplots()\n",
    "    data2.hist(ax = axes2)\n",
    "    plt.show(fig2)"
   ]
  },
  {
   "cell_type": "code",
   "execution_count": null,
   "metadata": {},
   "outputs": [],
   "source": []
  }
 ],
 "metadata": {
  "kernelspec": {
   "display_name": "Finance",
   "language": "python",
   "name": "python3"
  },
  "language_info": {
   "codemirror_mode": {
    "name": "ipython",
    "version": 3
   },
   "file_extension": ".py",
   "mimetype": "text/x-python",
   "name": "python",
   "nbconvert_exporter": "python",
   "pygments_lexer": "ipython3",
   "version": "3.11.3"
  },
  "orig_nbformat": 4,
  "vscode": {
   "interpreter": {
    "hash": "7a8f32eb7370910c98ad7f3e6349af487e72f6c87d324b20c3558c403c539af4"
   }
  }
 },
 "nbformat": 4,
 "nbformat_minor": 2
}

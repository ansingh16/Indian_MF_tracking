{
 "cells": [
  {
   "attachments": {},
   "cell_type": "markdown",
   "metadata": {},
   "source": [
    "## Collected Mututal fund data using screeners\n",
    "\n",
    "https://finance.yahoo.com/screener/unsaved/b8a2572f-78a8-407b-b317-827a6dde3238?count=100&offset=300\n",
    "\n"
   ]
  },
  {
   "cell_type": "code",
   "execution_count": 1,
   "metadata": {},
   "outputs": [],
   "source": [
    "import pandas as pd\n",
    "import yfinance as yf\n",
    "from yahoofinancials import YahooFinancials"
   ]
  },
  {
   "cell_type": "code",
   "execution_count": 2,
   "metadata": {},
   "outputs": [],
   "source": [
    "MF_data = pd.read_csv('Yahoo_tickers_MF.txt',delimiter='\\t')"
   ]
  },
  {
   "cell_type": "code",
   "execution_count": 65,
   "metadata": {},
   "outputs": [
    {
     "data": {
      "application/vnd.jupyter.widget-view+json": {
       "model_id": "1fe0bc189f9c49598960dc92b9161394",
       "version_major": 2,
       "version_minor": 0
      },
      "text/plain": [
       "interactive(children=(Dropdown(description='Mutual Fund', options=('HDFC Equity Savings Fund -Direct Plan Divi…"
      ]
     },
     "metadata": {},
     "output_type": "display_data"
    },
    {
     "data": {
      "application/vnd.jupyter.widget-view+json": {
       "model_id": "bef33114b4ea49858728e4b45d877119",
       "version_major": 2,
       "version_minor": 0
      },
      "text/plain": [
       "Output()"
      ]
     },
     "metadata": {},
     "output_type": "display_data"
    }
   ],
   "source": [
    "\n",
    "import ipywidgets as widgets\n",
    "from IPython.display import display\n",
    "import matplotlib.pyplot as plt\n",
    "import numpy as np \n",
    "from ipywidgets import interact\n",
    "from ipywidgets import interact\n",
    "\n",
    "output_mf = widgets.Output()\n",
    "\n",
    "\n",
    "MF_select = widgets.Dropdown(\n",
    "    options=MF_data['Name'].tolist(),\n",
    "    value=MF_data['Name'].iloc[0],\n",
    "    description='Mutual Fund',\n",
    "    disabled=False,\n",
    ")\n",
    "# Define a function to handle the change event\n",
    "def plot_dropdown(Name):\n",
    "    \n",
    "    output_mf.clear_output()\n",
    "    with output_mf:\n",
    "        \n",
    "        fig,ax = plt.subplots(1,1,figsize=(6,6))\n",
    "        selected_option = Name\n",
    "        ticker = yf.Ticker(MF_data.loc[MF_data['Name'] == selected_option, 'Symbol'].iloc[0])\n",
    "        mf_df = ticker.history(period=\"5y\")\n",
    "        title=f\"{selected_option} Stock Price\"\n",
    "        threshold = 20\n",
    "\n",
    "        if len(title) > threshold:\n",
    "            title = title[:threshold] + \"\\n\" + title[threshold:]\n",
    "       \n",
    "        mf_df['Close'].plot(ax=ax)\n",
    "        ax.set_title(title)\n",
    "        ax.set_ylabel('NAV')\n",
    "        plt.show()\n",
    "\n",
    "# Register the change event handler\n",
    "widgets.interact(plot_dropdown, Name=MF_select)\n",
    "\n",
    "# display(MF_select)\n",
    "display(output_mf)\n"
   ]
  },
  {
   "cell_type": "code",
   "execution_count": 17,
   "metadata": {},
   "outputs": [
    {
     "data": {
      "application/vnd.jupyter.widget-view+json": {
       "model_id": "d9e27e94ba8d44cf8bd204158faa9512",
       "version_major": 2,
       "version_minor": 0
      },
      "text/plain": [
       "interactive(children=(Dropdown(description='Mutual Fund', options=('HDFC Equity Savings Fund -Direct Plan Divi…"
      ]
     },
     "metadata": {},
     "output_type": "display_data"
    },
    {
     "data": {
      "application/vnd.jupyter.widget-view+json": {
       "model_id": "af139c0463f244f1a6e6532501a42db0",
       "version_major": 2,
       "version_minor": 0
      },
      "text/plain": [
       "GridspecLayout(children=(Output(layout=Layout(grid_area='widget001')), HTML(value='<table border=\"1\" class=\"da…"
      ]
     },
     "execution_count": 17,
     "metadata": {},
     "output_type": "execute_result"
    }
   ],
   "source": [
    "from ipywidgets import GridspecLayout\n",
    "from IPython.display import display, HTML\n",
    "\n",
    "import ipywidgets as widgets\n",
    "from IPython.display import display\n",
    "import matplotlib.pyplot as plt\n",
    "import numpy as np \n",
    "from ipywidgets import interact\n",
    "\n",
    "grid = widgets.GridspecLayout(2, 2)\n",
    "\n",
    "\n",
    "output_mf = widgets.Output()\n",
    "\n",
    "\n",
    "MF_select = widgets.Dropdown(\n",
    "    options=MF_data['Name'].tolist(),\n",
    "    value=MF_data['Name'].iloc[0],\n",
    "    description='Mutual Fund',\n",
    "    disabled=False,\n",
    ")\n",
    "# Define a function to handle the change event\n",
    "def plot_dropdown(Name):\n",
    "    \n",
    "    output_mf.clear_output()\n",
    "    with output_mf:\n",
    "        \n",
    "        fig,ax = plt.subplots(1,1,figsize=(6,6))\n",
    "        selected_option = Name\n",
    "        ticker = yf.Ticker(MF_data.loc[MF_data['Name'] == selected_option, 'Symbol'].iloc[0])\n",
    "        mf_df = ticker.history(period=\"5y\")\n",
    "        title=f\"{selected_option} Stock Price\"\n",
    "        threshold = 20\n",
    "\n",
    "        if len(title) > threshold:\n",
    "            title = title[:threshold] + \"\\n\" + title[threshold:]\n",
    "       \n",
    "        mf_df['Close'].plot(ax=ax)\n",
    "        ax.set_title(title)\n",
    "        ax.set_ylabel('NAV')\n",
    "        plt.show()\n",
    "\n",
    "# Register the change event handler\n",
    "widgets.interact(plot_dropdown, Name=MF_select)\n",
    "\n",
    "\n",
    "# Sample DataFrame\n",
    "data = {'Category': ['A', 'B', 'C', 'D'],\n",
    "        'Value': [10, 20, 30, 40]}\n",
    "df = pd.DataFrame(data)\n",
    "\n",
    "\n",
    "# grid[0, 0] = MF_select\n",
    "\n",
    "grid[:,0] = output_mf\n",
    "\n",
    "# Create HTML widget to display the table\n",
    "table_widget = widgets.HTML()\n",
    "\n",
    "# Function to generate HTML table from DataFrame\n",
    "def generate_html_table(dataframe):\n",
    "    html_table = dataframe.to_html(index=False)\n",
    "    return html_table\n",
    "\n",
    "# Generate HTML table from DataFrame\n",
    "html_table = generate_html_table(df)\n",
    "\n",
    "# Set the HTML content of the widget\n",
    "table_widget.value = html_table\n",
    "\n",
    "\n",
    "grid[:,1] = table_widget\n",
    "\n",
    "grid "
   ]
  },
  {
   "cell_type": "code",
   "execution_count": 9,
   "metadata": {},
   "outputs": [],
   "source": []
  },
  {
   "cell_type": "code",
   "execution_count": null,
   "metadata": {},
   "outputs": [],
   "source": []
  }
 ],
 "metadata": {
  "kernelspec": {
   "display_name": "Finance",
   "language": "python",
   "name": "python3"
  },
  "language_info": {
   "codemirror_mode": {
    "name": "ipython",
    "version": 3
   },
   "file_extension": ".py",
   "mimetype": "text/x-python",
   "name": "python",
   "nbconvert_exporter": "python",
   "pygments_lexer": "ipython3",
   "version": "3.11.3"
  },
  "orig_nbformat": 4,
  "vscode": {
   "interpreter": {
    "hash": "7a8f32eb7370910c98ad7f3e6349af487e72f6c87d324b20c3558c403c539af4"
   }
  }
 },
 "nbformat": 4,
 "nbformat_minor": 2
}
